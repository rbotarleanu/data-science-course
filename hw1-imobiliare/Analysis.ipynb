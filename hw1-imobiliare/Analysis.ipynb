{
 "cells": [
  {
   "cell_type": "code",
   "execution_count": 2,
   "metadata": {},
   "outputs": [],
   "source": [
    "import pandas as pd\n",
    "import json\n",
    "import re\n",
    "import numpy as np\n",
    "import seaborn as sns\n",
    "import matplotlib.pyplot as plt\n",
    "from sklearn.model_selection import KFold\n",
    "from sklearn.metrics import mean_squared_error\n",
    "\n",
    "from sklearn.linear_model import LinearRegression"
   ]
  },
  {
   "cell_type": "code",
   "execution_count": 3,
   "metadata": {},
   "outputs": [],
   "source": [
    "DATA_FILE = 'date_imobiliare.txt'"
   ]
  },
  {
   "cell_type": "code",
   "execution_count": 4,
   "metadata": {},
   "outputs": [],
   "source": [
    "data = []\n",
    "with open(DATA_FILE, 'rt') as fin:\n",
    "    for line in fin:\n",
    "        data.append(json.loads(line))"
   ]
  },
  {
   "cell_type": "code",
   "execution_count": 5,
   "metadata": {},
   "outputs": [],
   "source": [
    "def parse_commision(commision):\n",
    "    if commision.strip() == '':\n",
    "        return float('nan')\n",
    "    try:\n",
    "        return re.match(r'\\D*(\\d+)\\D*', commision).group(1)\n",
    "    except:\n",
    "        return float('nan')"
   ]
  },
  {
   "cell_type": "code",
   "execution_count": 6,
   "metadata": {},
   "outputs": [],
   "source": [
    "def parse_characteristics(characteristics):\n",
    "    rooms = float('nan')\n",
    "    size = float('nan')\n",
    "    floor = float('nan')\n",
    "    decomandat = float('nan')\n",
    "    nou = float('nan')\n",
    "    \n",
    "    for char in characteristics:\n",
    "        if 'camera' in char:\n",
    "            rooms = 0\n",
    "        elif 'camere' in char:\n",
    "            try:\n",
    "                rooms = float(re.match(r'\\D*(\\d+)\\s*camere.*', char).group(1))\n",
    "            except:\n",
    "                pass\n",
    "        \n",
    "        if 'mp' in char:\n",
    "            try:\n",
    "                size = float(re.match(r'\\D*(\\d+\\.?\\d+)\\s*mp.*', char).group(1))\n",
    "            except:\n",
    "                pass\n",
    "        \n",
    "        if 'semidecomandat' in char.lower():\n",
    "            decomandat = 1\n",
    "        elif 'decomandat' in char.lower():\n",
    "            decomandat = 2\n",
    "            \n",
    "        if 'parter' in char.lower():\n",
    "            floor = 0\n",
    "        elif 'etaj' in char.lower():\n",
    "            try:\n",
    "                floor = int(re.match(r'.*etaj\\s*(\\d+)', char.lower()).group(1))\n",
    "            except:\n",
    "                pass\n",
    "    \n",
    "        if 'nou' in char.lower():\n",
    "            nou = True\n",
    "        elif 'vechi' in char.lower():\n",
    "            nou = False\n",
    "\n",
    "    return rooms, size, floor, decomandat, nou"
   ]
  },
  {
   "cell_type": "code",
   "execution_count": 7,
   "metadata": {},
   "outputs": [],
   "source": [
    "def parse_currency(currency):\n",
    "    if 'eur' in currency.lower():\n",
    "        return 'EUR'\n",
    "    return ''"
   ]
  },
  {
   "cell_type": "code",
   "execution_count": 8,
   "metadata": {},
   "outputs": [],
   "source": [
    "def parse_price(price):\n",
    "    price = price.replace('.', '')\n",
    "    price = price.replace(',', '')\n",
    "    try:\n",
    "        return float(price)\n",
    "    except:\n",
    "        return float('nan')"
   ]
  },
  {
   "cell_type": "code",
   "execution_count": 9,
   "metadata": {},
   "outputs": [
    {
     "data": {
      "text/plain": [
       "{'title': 'Apartament 3 camere Baneasa-Pipera La GLOIRE, pe malul lacului',\n",
       " 'price': '100.999',\n",
       " 'currency': 'EUR + TVA',\n",
       " 'commision': ' Comision 0% ',\n",
       " 'characteristics': ['3 camere',\n",
       "  '86.63 mp utili',\n",
       "  'Etaj 2/4',\n",
       "  'Decomandat',\n",
       "  'Bloc nou']}"
      ]
     },
     "execution_count": 9,
     "metadata": {},
     "output_type": "execute_result"
    }
   ],
   "source": [
    "data[0]\n"
   ]
  },
  {
   "cell_type": "code",
   "execution_count": 11,
   "metadata": {},
   "outputs": [],
   "source": [
    "parsed_data = []\n",
    "for e in data:\n",
    "    title = e['title']\n",
    "    price = parse_price(e['price'])\n",
    "    currency = parse_currency(e['currency'])\n",
    "    commision = parse_commision(e['commision'])\n",
    "    rooms, size, floor, decomandat, new = parse_characteristics(e['characteristics'])\n",
    "    \n",
    "    parsed_data.append({\n",
    "        'title': title,\n",
    "        'price': price,\n",
    "        'currency': currency,\n",
    "        'commission': commision,\n",
    "        'rooms': rooms,\n",
    "        'size': size,\n",
    "        'floor': floor,\n",
    "        'decomandat': decomandat,\n",
    "        'new': new\n",
    "    })"
   ]
  },
  {
   "cell_type": "code",
   "execution_count": 12,
   "metadata": {},
   "outputs": [
    {
     "data": {
      "text/plain": [
       "{'title': 'Apartament 3 camere Baneasa-Pipera La GLOIRE, pe malul lacului',\n",
       " 'price': 100999.0,\n",
       " 'currency': 'EUR',\n",
       " 'commission': '0',\n",
       " 'rooms': 3.0,\n",
       " 'size': 86.63,\n",
       " 'floor': 2,\n",
       " 'decomandat': 2,\n",
       " 'new': True}"
      ]
     },
     "execution_count": 12,
     "metadata": {},
     "output_type": "execute_result"
    }
   ],
   "source": [
    "parsed_data[0]"
   ]
  },
  {
   "cell_type": "code",
   "execution_count": 13,
   "metadata": {},
   "outputs": [
    {
     "data": {
      "text/html": [
       "<div>\n",
       "<style scoped>\n",
       "    .dataframe tbody tr th:only-of-type {\n",
       "        vertical-align: middle;\n",
       "    }\n",
       "\n",
       "    .dataframe tbody tr th {\n",
       "        vertical-align: top;\n",
       "    }\n",
       "\n",
       "    .dataframe thead th {\n",
       "        text-align: right;\n",
       "    }\n",
       "</style>\n",
       "<table border=\"1\" class=\"dataframe\">\n",
       "  <thead>\n",
       "    <tr style=\"text-align: right;\">\n",
       "      <th></th>\n",
       "      <th>commission</th>\n",
       "      <th>currency</th>\n",
       "      <th>decomandat</th>\n",
       "      <th>floor</th>\n",
       "      <th>new</th>\n",
       "      <th>price</th>\n",
       "      <th>rooms</th>\n",
       "      <th>size</th>\n",
       "      <th>title</th>\n",
       "    </tr>\n",
       "  </thead>\n",
       "  <tbody>\n",
       "    <tr>\n",
       "      <th>0</th>\n",
       "      <td>0</td>\n",
       "      <td>EUR</td>\n",
       "      <td>2.0</td>\n",
       "      <td>2.0</td>\n",
       "      <td>True</td>\n",
       "      <td>100999.0</td>\n",
       "      <td>3.0</td>\n",
       "      <td>86.63</td>\n",
       "      <td>Apartament 3 camere Baneasa-Pipera La GLOIRE, ...</td>\n",
       "    </tr>\n",
       "    <tr>\n",
       "      <th>1</th>\n",
       "      <td>0</td>\n",
       "      <td>EUR</td>\n",
       "      <td>2.0</td>\n",
       "      <td>2.0</td>\n",
       "      <td>True</td>\n",
       "      <td>39900.0</td>\n",
       "      <td>2.0</td>\n",
       "      <td>48.00</td>\n",
       "      <td>2 Camere Finalizate la cheie 39.900 Euro cu Lo...</td>\n",
       "    </tr>\n",
       "    <tr>\n",
       "      <th>2</th>\n",
       "      <td>0</td>\n",
       "      <td>EUR</td>\n",
       "      <td>2.0</td>\n",
       "      <td>4.0</td>\n",
       "      <td>True</td>\n",
       "      <td>620000.0</td>\n",
       "      <td>5.0</td>\n",
       "      <td>200.00</td>\n",
       "      <td>Luxury Apartments | 4 bedrooms with Park view,...</td>\n",
       "    </tr>\n",
       "    <tr>\n",
       "      <th>3</th>\n",
       "      <td>0</td>\n",
       "      <td>EUR</td>\n",
       "      <td>2.0</td>\n",
       "      <td>8.0</td>\n",
       "      <td>True</td>\n",
       "      <td>650000.0</td>\n",
       "      <td>4.0</td>\n",
       "      <td>211.00</td>\n",
       "      <td>Vedere panoramica lac! 4 camere, terasa, 290mp...</td>\n",
       "    </tr>\n",
       "    <tr>\n",
       "      <th>4</th>\n",
       "      <td>0</td>\n",
       "      <td>EUR</td>\n",
       "      <td>1.0</td>\n",
       "      <td>2.0</td>\n",
       "      <td>True</td>\n",
       "      <td>157000.0</td>\n",
       "      <td>2.0</td>\n",
       "      <td>65.42</td>\n",
       "      <td>49 Gafencu | Luxury concept apartments | 1 bed...</td>\n",
       "    </tr>\n",
       "  </tbody>\n",
       "</table>\n",
       "</div>"
      ],
      "text/plain": [
       "  commission currency  decomandat  floor   new     price  rooms    size  \\\n",
       "0          0      EUR         2.0    2.0  True  100999.0    3.0   86.63   \n",
       "1          0      EUR         2.0    2.0  True   39900.0    2.0   48.00   \n",
       "2          0      EUR         2.0    4.0  True  620000.0    5.0  200.00   \n",
       "3          0      EUR         2.0    8.0  True  650000.0    4.0  211.00   \n",
       "4          0      EUR         1.0    2.0  True  157000.0    2.0   65.42   \n",
       "\n",
       "                                               title  \n",
       "0  Apartament 3 camere Baneasa-Pipera La GLOIRE, ...  \n",
       "1  2 Camere Finalizate la cheie 39.900 Euro cu Lo...  \n",
       "2  Luxury Apartments | 4 bedrooms with Park view,...  \n",
       "3  Vedere panoramica lac! 4 camere, terasa, 290mp...  \n",
       "4  49 Gafencu | Luxury concept apartments | 1 bed...  "
      ]
     },
     "execution_count": 13,
     "metadata": {},
     "output_type": "execute_result"
    }
   ],
   "source": [
    "df = pd.DataFrame.from_records(parsed_data)\n",
    "df.head()"
   ]
  },
  {
   "cell_type": "code",
   "execution_count": 153,
   "metadata": {},
   "outputs": [
    {
     "data": {
      "text/plain": [
       "EUR    3979\n",
       "         51\n",
       "Name: currency, dtype: int64"
      ]
     },
     "execution_count": 153,
     "metadata": {},
     "output_type": "execute_result"
    }
   ],
   "source": [
    "df['currency'].value_counts()"
   ]
  },
  {
   "cell_type": "code",
   "execution_count": 154,
   "metadata": {},
   "outputs": [],
   "source": [
    "del df['currency']"
   ]
  },
  {
   "cell_type": "code",
   "execution_count": 155,
   "metadata": {},
   "outputs": [
    {
     "data": {
      "text/plain": [
       "0    2567\n",
       "Name: commission, dtype: int64"
      ]
     },
     "execution_count": 155,
     "metadata": {},
     "output_type": "execute_result"
    }
   ],
   "source": [
    "df['commission'].value_counts()"
   ]
  },
  {
   "cell_type": "code",
   "execution_count": 157,
   "metadata": {},
   "outputs": [],
   "source": [
    "df['commission'] = df['commission'].fillna(0)\n",
    "df['decomandat'] = df['decomandat'].fillna(0)\n",
    "df['floor'] = df['floor'].fillna(-1)\n",
    "df['new'] = df['new'].fillna(False)"
   ]
  },
  {
   "cell_type": "code",
   "execution_count": 158,
   "metadata": {},
   "outputs": [
    {
     "name": "stdout",
     "output_type": "stream",
     "text": [
      "Before n/a drop: (4030, 8)\n",
      "After n/a drop: (3556, 8)\n"
     ]
    }
   ],
   "source": [
    "print('Before n/a drop:', df.shape)\n",
    "df = df.dropna()\n",
    "print('After n/a drop:', df.shape)"
   ]
  },
  {
   "cell_type": "code",
   "execution_count": 163,
   "metadata": {},
   "outputs": [
    {
     "data": {
      "image/png": "[encoded data removed]",
      "text/plain": [
       "<Figure size 432x288 with 2 Axes>"
      ]
     },
     "metadata": {
      "needs_background": "light"
     },
     "output_type": "display_data"
    }
   ],
   "source": [
    "sns.heatmap(df.corr(), cmap=plt.cm.viridis, annot=True)\n",
    "plt.show()"
   ]
  },
  {
   "cell_type": "code",
   "execution_count": 168,
   "metadata": {},
   "outputs": [
    {
     "name": "stdout",
     "output_type": "stream",
     "text": [
      "[Split 0] Score: 115559.855729\n",
      "[Split 1] Score: 96005.403221\n",
      "[Split 2] Score: 78731.006242\n",
      "[Split 3] Score: 98540.429610\n",
      "[Split 4] Score: 74787.324590\n"
     ]
    }
   ],
   "source": [
    "X = np.matrix(df[['rooms', 'size']])\n",
    "y = np.array(df['price'])\n",
    "\n",
    "kfold = KFold(n_splits=5)\n",
    "\n",
    "for split, (train_indices, test_indices) in enumerate(kfold.split(range(X.shape[0]))):\n",
    "    train_X, train_y = X[train_indices], y[train_indices]\n",
    "    test_X, test_y = X[test_indices], y[test_indices]\n",
    "    \n",
    "    model = LinearRegression(normalize=True)\n",
    "    model.fit(train_X, train_y)\n",
    "    y_pred = model.predict(test_X)\n",
    "    score = np.sqrt(mean_squared_error(test_y, y_pred))  # RMSE\n",
    "    \n",
    "    print('[Split %d] Score: %f' % (split, score))"
   ]
  },
  {
   "cell_type": "code",
   "execution_count": 169,
   "metadata": {},
   "outputs": [
    {
     "name": "stdout",
     "output_type": "stream",
     "text": [
      "[Split 0] Score: 115331.736786\n",
      "[Split 1] Score: 96035.449300\n",
      "[Split 2] Score: 78313.861824\n",
      "[Split 3] Score: 98771.764504\n",
      "[Split 4] Score: 77175.169079\n"
     ]
    }
   ],
   "source": [
    "X = np.matrix(df[['rooms', 'size', 'new', 'decomandat', 'floor']])\n",
    "y = np.array(df['price'])\n",
    "\n",
    "kfold = KFold(n_splits=5)\n",
    "\n",
    "for split, (train_indices, test_indices) in enumerate(kfold.split(range(X.shape[0]))):\n",
    "    train_X, train_y = X[train_indices], y[train_indices]\n",
    "    test_X, test_y = X[test_indices], y[test_indices]\n",
    "    \n",
    "    model = LinearRegression(normalize=True)\n",
    "    model.fit(train_X, train_y)\n",
    "    y_pred = model.predict(test_X)\n",
    "    score = np.sqrt(mean_squared_error(test_y, y_pred))  # RMSE\n",
    "    \n",
    "    print('[Split %d] Score: %f' % (split, score))"
   ]
  },
  {
   "cell_type": "code",
   "execution_count": 172,
   "metadata": {},
   "outputs": [
    {
     "data": {
      "image/png": "[encoded data removed]",
      "text/plain": [
       "<Figure size 432x288 with 1 Axes>"
      ]
     },
     "metadata": {
      "needs_background": "light"
     },
     "output_type": "display_data"
    }
   ],
   "source": [
    "sns.kdeplot(y)\n",
    "plt.show()"
   ]
  },
  {
   "cell_type": "code",
   "execution_count": 174,
   "metadata": {},
   "outputs": [
    {
     "name": "stdout",
     "output_type": "stream",
     "text": [
      "[Split 0] Score: 39453.875820\n",
      "[Split 1] Score: 42236.005708\n",
      "[Split 2] Score: 40549.450425\n",
      "[Split 3] Score: 52682.620407\n",
      "[Split 4] Score: 41276.426672\n"
     ]
    }
   ],
   "source": [
    "X = np.matrix(df.loc[df['price'] < 300000][['rooms', 'size']])\n",
    "y = np.array(df.loc[df['price'] < 300000]['price'])\n",
    "\n",
    "kfold = KFold(n_splits=5)\n",
    "\n",
    "for split, (train_indices, test_indices) in enumerate(kfold.split(range(X.shape[0]))):\n",
    "    train_X, train_y = X[train_indices], y[train_indices]\n",
    "    test_X, test_y = X[test_indices], y[test_indices]\n",
    "    \n",
    "    model = LinearRegression(normalize=True)\n",
    "    model.fit(train_X, train_y)\n",
    "    y_pred = model.predict(test_X)\n",
    "    score = np.sqrt(mean_squared_error(test_y, y_pred))  # RMSE\n",
    "    \n",
    "    print('[Split %d] Score: %f' % (split, score))"
   ]
  },
  {
   "cell_type": "code",
   "execution_count": 175,
   "metadata": {},
   "outputs": [
    {
     "data": {
      "image/png": "[encoded data removed]",
      "text/plain": [
       "<Figure size 432x288 with 1 Axes>"
      ]
     },
     "metadata": {
      "needs_background": "light"
     },
     "output_type": "display_data"
    }
   ],
   "source": [
    "sns.kdeplot(y)\n",
    "plt.show()"
   ]
  },
  {
   "cell_type": "code",
   "execution_count": 176,
   "metadata": {},
   "outputs": [
    {
     "data": {
      "text/plain": [
       "count      3307.000000\n",
       "mean     102499.993347\n",
       "std       55404.713087\n",
       "min        5000.000000\n",
       "25%       63000.000000\n",
       "50%       85000.000000\n",
       "75%      127000.000000\n",
       "max      299900.000000\n",
       "Name: price, dtype: float64"
      ]
     },
     "execution_count": 176,
     "metadata": {},
     "output_type": "execute_result"
    }
   ],
   "source": [
    "df.loc[df['price'] < 300000]['price'].describe()"
   ]
  },
  {
   "cell_type": "code",
   "execution_count": 178,
   "metadata": {},
   "outputs": [
    {
     "name": "stdout",
     "output_type": "stream",
     "text": [
      "[Split 0] Score: 24066.808637\n",
      "[Split 1] Score: 24226.502154\n",
      "[Split 2] Score: 22960.407509\n",
      "[Split 3] Score: 23214.149965\n",
      "[Split 4] Score: 22170.167075\n"
     ]
    }
   ],
   "source": [
    "X = np.matrix(df.loc[df['price'] < 150000].loc[df['price'] > 50000][['rooms', 'size']])\n",
    "y = np.array(df.loc[df['price'] < 150000].loc[df['price'] > 50000][['price']])\n",
    "\n",
    "kfold = KFold(n_splits=5)\n",
    "\n",
    "for split, (train_indices, test_indices) in enumerate(kfold.split(range(X.shape[0]))):\n",
    "    train_X, train_y = X[train_indices], y[train_indices]\n",
    "    test_X, test_y = X[test_indices], y[test_indices]\n",
    "    \n",
    "    model = LinearRegression(normalize=True)\n",
    "    model.fit(train_X, train_y)\n",
    "    y_pred = model.predict(test_X)\n",
    "    score = np.sqrt(mean_squared_error(test_y, y_pred))  # RMSE\n",
    "    \n",
    "    print('[Split %d] Score: %f' % (split, score))"
   ]
  },
  {
   "cell_type": "code",
   "execution_count": null,
   "metadata": {},
   "outputs": [],
   "source": []
  }
 ],
 "metadata": {
  "kernelspec": {
   "display_name": "Python 3",
   "language": "python",
   "name": "python3"
  },
  "language_info": {
   "codemirror_mode": {
    "name": "ipython",
    "version": 3
   },
   "file_extension": ".py",
   "mimetype": "text/x-python",
   "name": "python",
   "nbconvert_exporter": "python",
   "pygments_lexer": "ipython3",
   "version": "3.7.0"
  }
 },
 "nbformat": 4,
 "nbformat_minor": 2
}
